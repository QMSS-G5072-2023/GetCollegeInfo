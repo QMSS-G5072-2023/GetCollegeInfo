{
 "cells": [
  {
   "cell_type": "code",
   "execution_count": 6,
   "id": "7286f76f-34fe-4fa1-9f13-bcd63f74da0a",
   "metadata": {},
   "outputs": [],
   "source": [
    "from get_college_info import get_college_info"
   ]
  },
  {
   "cell_type": "code",
   "execution_count": 7,
   "id": "9b55381f-e0ef-42a8-9fdd-8c0725a3a77a",
   "metadata": {},
   "outputs": [
    {
     "name": "stdout",
     "output_type": "stream",
     "text": [
      "Multiple possible matches found for 'Michigan'. Please specify one below and reinput into the function:\n",
      "1. Michigan Technological University\n",
      "2. University of Michigan-Ann Arbor\n",
      "3. Western Michigan University-Thomas M. Cooley Law School\n",
      "4. Western Michigan University Homer Stryker M.D. School of Medicine\n",
      "5. The Michigan Barber School\n",
      "6. MIAT College of Technology\n",
      "7. Concordia University Ann Arbor\n",
      "8. Eastern Michigan University\n",
      "9. Michigan College of Beauty-Monroe\n",
      "10. Lake Michigan College\n",
      "11. Empire Beauty School-Michigan\n",
      "12. Central Michigan University\n",
      "13. Michigan State University\n",
      "14. Michigan School of Psychology\n",
      "15. University of Michigan-Dearborn\n",
      "16. University of Michigan-Flint\n",
      "17. Mid Michigan College\n",
      "18. North Central Michigan College\n",
      "19. Moody Theological Seminary and Graduate School--Michigan\n",
      "20. West Michigan College of Barbering and Beauty\n"
     ]
    }
   ],
   "source": [
    "college_name_input = \"Michigan\"  \n",
    "api_key = 'api_key'\n",
    "get_college_info(college_name_input, api_key)"
   ]
  },
  {
   "cell_type": "code",
   "execution_count": 10,
   "id": "23382bb1-4900-4eac-bfaa-a374cc32fe7e",
   "metadata": {},
   "outputs": [
    {
     "data": {
      "text/plain": [
       "{'Name': 'Michigan State University',\n",
       " 'Location': 'East Lansing, MI',\n",
       " 'Ownership (1. Public, 2. Private, non-profit, 3. Private, for-profit)': 1,\n",
       " 'Endowment': '$4.43 billion',\n",
       " 'Admission Rate': 0.8325,\n",
       " 'Graduation Rate': 0.8207,\n",
       " 'Tuition (In-State)': '$14750',\n",
       " 'Tuition (Out-of-State)': '$40562',\n",
       " 'Average SAT Scores': {'Reading': 600, 'Math': 610, 'Writing': 520},\n",
       " 'Average ACT Scores': {'Cumulative': 26,\n",
       "  'English': 26,\n",
       "  'Math': 25,\n",
       "  'Writing': 9},\n",
       " 'Race Demographics': {'White': 0.6778,\n",
       "  'Black': 0.0729,\n",
       "  'Hispanic': 0.061,\n",
       "  'Asian': 0.0729,\n",
       "  'Two or More': 0.0369},\n",
       " 'Sex Demographics': {'Male': 0.4842, 'Female': 0.5158},\n",
       " 'Student Size': {'Undergrad': 38424, 'Grad': 11085}}"
      ]
     },
     "execution_count": 10,
     "metadata": {},
     "output_type": "execute_result"
    }
   ],
   "source": [
    "college_name_input = \"Michigan State University\"  \n",
    "api_key = 'api_key'\n",
    "get_college_info(college_name_input, api_key)"
   ]
  },
  {
   "cell_type": "code",
   "execution_count": null,
   "id": "9630089f-8fbb-4c2c-9ccc-442d3ee4cdad",
   "metadata": {},
   "outputs": [],
   "source": []
  }
 ],
 "metadata": {
  "kernelspec": {
   "display_name": "Python 3 (ipykernel)",
   "language": "python",
   "name": "python3"
  },
  "language_info": {
   "codemirror_mode": {
    "name": "ipython",
    "version": 3
   },
   "file_extension": ".py",
   "mimetype": "text/x-python",
   "name": "python",
   "nbconvert_exporter": "python",
   "pygments_lexer": "ipython3",
   "version": "3.11.4"
  }
 },
 "nbformat": 4,
 "nbformat_minor": 5
}
