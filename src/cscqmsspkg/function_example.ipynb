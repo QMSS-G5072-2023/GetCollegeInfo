{
 "cells": [
  {
   "cell_type": "markdown",
   "id": "773e6fd6-0957-4715-9f79-4e0726634c2f",
   "metadata": {},
   "source": [
    "**We first import the function**"
   ]
  },
  {
   "cell_type": "code",
   "execution_count": 37,
   "id": "7286f76f-34fe-4fa1-9f13-bcd63f74da0a",
   "metadata": {},
   "outputs": [
    {
     "ename": "ImportError",
     "evalue": "cannot import name 'get_college_infor' from 'get_college_info' (/Users/tjchu/final_project/cscqmsspkg/src/cscqmsspkg/get_college_info.py)",
     "output_type": "error",
     "traceback": [
      "\u001b[0;31m---------------------------------------------------------------------------\u001b[0m",
      "\u001b[0;31mImportError\u001b[0m                               Traceback (most recent call last)",
      "Cell \u001b[0;32mIn[37], line 1\u001b[0m\n\u001b[0;32m----> 1\u001b[0m \u001b[38;5;28;01mfrom\u001b[39;00m \u001b[38;5;21;01mget_college_info\u001b[39;00m \u001b[38;5;28;01mimport\u001b[39;00m get_college_infor\n",
      "\u001b[0;31mImportError\u001b[0m: cannot import name 'get_college_infor' from 'get_college_info' (/Users/tjchu/final_project/cscqmsspkg/src/cscqmsspkg/get_college_info.py)"
     ]
    }
   ],
   "source": [
    "from get_college_info import get_college_infor"
   ]
  },
  {
   "cell_type": "markdown",
   "id": "29db27bf-84e3-4157-a2ce-a29ba63d335b",
   "metadata": {},
   "source": [
    "**We then input \"Michigan\" into our function. The result yields 20 possible matches, however. We ask the user to be more specific and reinput the function.**"
   ]
  },
  {
   "cell_type": "code",
   "execution_count": 35,
   "id": "9b55381f-e0ef-42a8-9fdd-8c0725a3a77a",
   "metadata": {},
   "outputs": [
    {
     "name": "stdout",
     "output_type": "stream",
     "text": [
      "Multiple possible matches found for 'Michigan'. Please specify one below and reinput into the function:\n",
      "1. Michigan Technological University\n",
      "2. University of Michigan-Ann Arbor\n",
      "3. Western Michigan University-Thomas M. Cooley Law School\n",
      "4. Western Michigan University Homer Stryker M.D. School of Medicine\n",
      "5. The Michigan Barber School\n",
      "6. MIAT College of Technology\n",
      "7. Concordia University Ann Arbor\n",
      "8. Eastern Michigan University\n",
      "9. Michigan College of Beauty-Monroe\n",
      "10. Lake Michigan College\n",
      "11. Empire Beauty School-Michigan\n",
      "12. Central Michigan University\n",
      "13. Michigan State University\n",
      "14. Michigan School of Psychology\n",
      "15. University of Michigan-Dearborn\n",
      "16. University of Michigan-Flint\n",
      "17. Mid Michigan College\n",
      "18. North Central Michigan College\n",
      "19. Moody Theological Seminary and Graduate School--Michigan\n",
      "20. West Michigan College of Barbering and Beauty\n"
     ]
    }
   ],
   "source": [
    "college_name_input = \"Michigan\"  \n",
    "api_key = 'UJSWnEUR1x2qP9Sbqe9eLQvqvpITx56j2KAeMD8B'\n",
    "get_college_infor(college_name_input, api_key)"
   ]
  },
  {
   "cell_type": "markdown",
   "id": "63929fe4-464e-4d1d-981e-94c2b63c4a01",
   "metadata": {},
   "source": [
    "**We select Michigan State University and rerun the function. This time, we obtain results from our function with summary information about the univeristy.**"
   ]
  },
  {
   "cell_type": "code",
   "execution_count": 10,
   "id": "23382bb1-4900-4eac-bfaa-a374cc32fe7e",
   "metadata": {},
   "outputs": [
    {
     "data": {
      "text/plain": [
       "{'Name': 'Michigan State University',\n",
       " 'Location': 'East Lansing, MI',\n",
       " 'Ownership (1. Public, 2. Private, non-profit, 3. Private, for-profit)': 1,\n",
       " 'Endowment': '$4.43 billion',\n",
       " 'Admission Rate': 0.8325,\n",
       " 'Graduation Rate': 0.8207,\n",
       " 'Tuition (In-State)': '$14750',\n",
       " 'Tuition (Out-of-State)': '$40562',\n",
       " 'Average SAT Scores': {'Reading': 600, 'Math': 610, 'Writing': 520},\n",
       " 'Average ACT Scores': {'Cumulative': 26,\n",
       "  'English': 26,\n",
       "  'Math': 25,\n",
       "  'Writing': 9},\n",
       " 'Race Demographics': {'White': 0.6778,\n",
       "  'Black': 0.0729,\n",
       "  'Hispanic': 0.061,\n",
       "  'Asian': 0.0729,\n",
       "  'Two or More': 0.0369},\n",
       " 'Sex Demographics': {'Male': 0.4842, 'Female': 0.5158},\n",
       " 'Student Size': {'Undergrad': 38424, 'Grad': 11085}}"
      ]
     },
     "execution_count": 10,
     "metadata": {},
     "output_type": "execute_result"
    }
   ],
   "source": [
    "college_name_input = \"Michigan State University\"  \n",
    "api_key = 'api_key'\n",
    "get_college_info(college_name_input, api_key)"
   ]
  }
 ],
 "metadata": {
  "kernelspec": {
   "display_name": "Python 3 (ipykernel)",
   "language": "python",
   "name": "python3"
  },
  "language_info": {
   "codemirror_mode": {
    "name": "ipython",
    "version": 3
   },
   "file_extension": ".py",
   "mimetype": "text/x-python",
   "name": "python",
   "nbconvert_exporter": "python",
   "pygments_lexer": "ipython3",
   "version": "3.11.4"
  }
 },
 "nbformat": 4,
 "nbformat_minor": 5
}
